{
 "cells": [
  {
   "cell_type": "code",
   "execution_count": 1,
   "id": "3a7050e9",
   "metadata": {},
   "outputs": [],
   "source": [
    "import scipy.stats\n",
    "\n",
    "\n",
    "def test_compatible_mean(sample1, sample2):\n",
    "    \"\"\"\n",
    "    We check if the mean of the two samples is not\n",
    "    significantly different\n",
    "    \"\"\"\n",
    "    ts, p_value = scipy.stats.ttest_ind(\n",
    "        sample1, sample2, equal_var=False, alternative=\"two-sided\"\n",
    "    )\n",
    "    \n",
    "#     print(type(p_value))\n",
    "    \n",
    "#     print(p_value >= 0.05)\n",
    "    \n",
    "#     print(np.size(p_value >= 0.05) - np.count_nonzero(p_value >= 0.05))\n",
    "\n",
    "    alpha = 0.05\n",
    "    \n",
    "    alpha_prime = 1 - (1 - alpha)**(1 / sample1.shape[1])\n",
    "#     print(alpha_prime)\n",
    "    \n",
    "    return np.size(p_value >= alpha_prime) - np.count_nonzero(p_value >= alpha_prime)\n",
    "\n",
    "    # Pre-determined threshold\n",
    "#     alpha = 0.05\n",
    "\n",
    "#     assert p_value >= alpha, \"T-test rejected the null hyp. at the 2 sigma level\"\n",
    "\n",
    "#     return ts, p_value"
   ]
  },
  {
   "cell_type": "code",
   "execution_count": 25,
   "id": "37a175f4",
   "metadata": {},
   "outputs": [],
   "source": [
    "# Script to train machine learning model.\n",
    "\n",
    "from sklearn.model_selection import train_test_split\n",
    "\n",
    "# Add the necessary imports for the starter code.\n",
    "import pandas as pd\n",
    "from ml.data import process_data\n",
    "from ml.model import compute_model_metrics\n",
    "import numpy as np\n",
    "\n",
    "# Add code to load in the data.\n",
    "data = pd.read_csv(\"../data/clean_census.csv\")\n",
    "\n",
    "# Optional enhancement, use K-fold cross validation instead\n",
    "# of a train-test split.\n",
    "\n",
    "test = 1\n",
    "\n",
    "# while test:\n",
    "#     print(test)\n",
    "\n",
    "train, test = train_test_split(data, test_size=0.20)\n",
    "\n",
    "cat_features = [\n",
    "    \"workclass\",\n",
    "    \"education\",\n",
    "    \"marital-status\",\n",
    "    \"occupation\",\n",
    "    \"relationship\",\n",
    "    \"race\",\n",
    "    \"sex\",\n",
    "    \"native-country\",\n",
    "]\n",
    "X_train, y_train, encoder, lb = process_data(train,\n",
    "                                             categorical_features=cat_features,\n",
    "                                             label=\"salary\", training=True)\n",
    "\n",
    "# Proces the test data with the process_data function.\n",
    "X_test, y_test, encoder, lb = process_data(test,\n",
    "                                             categorical_features=cat_features,\n",
    "                                             label=\"salary\", training=False,\n",
    "                                             encoder=encoder, lb=lb)\n",
    "\n",
    "#     print(y_test)                                             \n",
    "\n",
    "    # Train and save a model.\n",
    "#     test = test_compatible_mean(X_train, X_test)"
   ]
  },
  {
   "cell_type": "code",
   "execution_count": 66,
   "id": "99f9f119",
   "metadata": {},
   "outputs": [
    {
     "data": {
      "text/plain": [
       "StandardScaler()"
      ]
     },
     "execution_count": 66,
     "metadata": {},
     "output_type": "execute_result"
    }
   ],
   "source": [
    "from sklearn import preprocessing\n",
    "import numpy as np\n",
    "\n",
    "scaler = preprocessing.StandardScaler().fit(X_train)\n",
    "scaler"
   ]
  },
  {
   "cell_type": "code",
   "execution_count": 67,
   "id": "df0ee449",
   "metadata": {},
   "outputs": [
    {
     "data": {
      "text/plain": [
       "array([3.85871852e+01, 1.89717136e+05, 1.00873771e+01, 1.08100994e+03,\n",
       "       8.71697251e+01, 4.04586916e+01, 5.67030098e-02, 2.95224201e-02,\n",
       "       6.38052826e-02, 2.68734644e-04, 6.96368243e-01, 3.47435504e-02,\n",
       "       7.78562654e-02, 4.03101966e-02, 4.22297297e-04, 2.81403563e-02,\n",
       "       3.56265356e-02, 1.28992629e-02, 5.14434889e-03, 1.01735258e-02,\n",
       "       1.97711916e-02, 1.52027027e-02, 3.32847052e-02, 4.33046683e-02,\n",
       "       1.64427211e-01, 1.27840909e-02, 3.24401106e-01, 5.24032555e-02,\n",
       "       1.61240786e-03, 1.78132678e-02, 2.23011364e-01, 1.35634214e-01,\n",
       "       6.52641278e-04, 4.62108415e-01, 1.28224816e-02, 3.26973280e-01,\n",
       "       3.15187346e-02, 3.02902334e-02, 5.69717445e-02, 1.15824631e-01,\n",
       "       3.45515971e-04, 1.25729423e-01, 1.26228501e-01, 3.10580467e-02,\n",
       "       4.25752457e-02, 6.03885135e-02, 1.00007678e-01, 4.53009828e-03,\n",
       "       1.27111486e-01, 2.02318796e-02, 1.10949017e-01, 2.81403563e-02,\n",
       "       4.99078624e-02, 4.07248157e-01, 2.55259521e-01, 3.00598894e-02,\n",
       "       1.54253686e-01, 1.05075246e-01, 4.81035012e-02, 9.86640049e-03,\n",
       "       3.20945946e-02, 9.57463145e-02, 8.56111794e-03, 8.53731572e-01,\n",
       "       3.29199939e-01, 6.70800061e-01, 1.76597052e-02, 6.91031941e-04,\n",
       "       3.80067568e-03, 2.18826781e-03, 1.68918919e-03, 2.91769042e-03,\n",
       "       2.14987715e-03, 6.91031941e-04, 2.99447174e-03, 3.10964373e-03,\n",
       "       8.82985258e-04, 3.83906634e-03, 7.29422604e-04, 2.03470516e-03,\n",
       "       1.30528256e-03, 4.22297297e-04, 4.60687961e-04, 4.99078624e-04,\n",
       "       3.22481572e-03, 1.15171990e-03, 6.52641278e-04, 2.49539312e-03,\n",
       "       2.41861179e-03, 1.80436118e-03, 6.14250614e-04, 1.93105037e-02,\n",
       "       1.11332924e-03, 3.83906634e-04, 9.21375921e-04, 6.06572482e-03,\n",
       "       1.80436118e-03, 1.07493857e-03, 3.72389435e-03, 4.22297297e-04,\n",
       "       2.45700246e-03, 1.42045455e-03, 5.37469287e-04, 4.60687961e-04,\n",
       "       8.97304975e-01, 2.11148649e-03, 4.60687961e-04])"
      ]
     },
     "execution_count": 67,
     "metadata": {},
     "output_type": "execute_result"
    }
   ],
   "source": [
    "scaler.mean_"
   ]
  },
  {
   "cell_type": "code",
   "execution_count": 68,
   "id": "462b749b",
   "metadata": {},
   "outputs": [
    {
     "data": {
      "text/plain": [
       "array([1.36099806e+01, 1.05693668e+05, 2.56704576e+00, 7.43620101e+03,\n",
       "       4.02932981e+02, 1.22741256e+01, 2.31274250e-01, 1.69265610e-01,\n",
       "       2.44405746e-01, 1.63909251e-02, 4.59825525e-01, 1.83129561e-01,\n",
       "       2.67945269e-01, 1.96685751e-01, 2.05455339e-02, 1.65373748e-01,\n",
       "       1.85357184e-01, 1.12840028e-01, 7.15393917e-02, 1.00349515e-01,\n",
       "       1.39213116e-01, 1.22358410e-01, 1.79379022e-01, 2.03542069e-01,\n",
       "       3.70662789e-01, 1.12341702e-01, 4.68150647e-01, 2.22838853e-01,\n",
       "       4.01224127e-02, 1.32272277e-01, 4.16265895e-01, 3.42399728e-01,\n",
       "       2.55385069e-02, 4.98562160e-01, 1.12508069e-01, 4.69107402e-01,\n",
       "       1.74714922e-01, 1.71384758e-01, 2.31788621e-01, 3.20014509e-01,\n",
       "       1.85848484e-02, 3.31544167e-01, 3.32106710e-01, 1.73474622e-01,\n",
       "       2.01897484e-01, 2.38205250e-01, 3.00010237e-01, 6.71533803e-02,\n",
       "       3.33097818e-01, 1.40792580e-01, 3.14068994e-01, 1.65373748e-01,\n",
       "       2.17754604e-01, 4.91321784e-01, 4.36006993e-01, 1.70752138e-01,\n",
       "       3.61191758e-01, 3.06650352e-01, 2.13984940e-01, 9.88385281e-02,\n",
       "       1.76251331e-01, 2.94243025e-01, 9.21293938e-02, 3.53375119e-01,\n",
       "       4.69922695e-01, 4.69922695e-01, 1.31711199e-01, 2.62784021e-02,\n",
       "       6.15323536e-02, 4.67277144e-02, 4.10650195e-02, 5.39367917e-02,\n",
       "       4.63168995e-02, 2.62784021e-02, 5.46397738e-02, 5.56774088e-02,\n",
       "       2.97019460e-02, 6.18411506e-02, 2.69979730e-02, 4.50617924e-02,\n",
       "       3.61051076e-02, 2.05455339e-02, 2.14586982e-02, 2.23344923e-02,\n",
       "       5.66958225e-02, 3.39174504e-02, 2.55385069e-02, 4.98915437e-02,\n",
       "       4.91198749e-02, 4.24394328e-02, 2.47764669e-02, 1.37613982e-01,\n",
       "       3.33480095e-02, 1.95897741e-02, 3.03401877e-02, 7.76461963e-02,\n",
       "       4.24394328e-02, 3.27686295e-02, 6.09099906e-02, 2.05455339e-02,\n",
       "       4.95072277e-02, 3.76621409e-02, 2.31771529e-02, 2.14586982e-02,\n",
       "       3.03560137e-01, 4.59023759e-02, 2.14586982e-02])"
      ]
     },
     "execution_count": 68,
     "metadata": {},
     "output_type": "execute_result"
    }
   ],
   "source": [
    "scaler.scale_"
   ]
  },
  {
   "cell_type": "code",
   "execution_count": 69,
   "id": "0240be40",
   "metadata": {},
   "outputs": [
    {
     "data": {
      "text/plain": [
       "array([[ 0.10380726, -0.61311276, -0.42359087, ...,  0.33830208,\n",
       "        -0.0459995 , -0.02146859],\n",
       "       [-1.07180059,  0.44448135, -0.03403802, ...,  0.33830208,\n",
       "        -0.0459995 , -0.02146859],\n",
       "       [-0.77789862, -1.54940348, -0.03403802, ...,  0.33830208,\n",
       "        -0.0459995 , -0.02146859],\n",
       "       ...,\n",
       "       [-0.77789862,  0.91389452, -0.42359087, ...,  0.33830208,\n",
       "        -0.0459995 , -0.02146859],\n",
       "       [-1.43917804, -1.34862513, -0.03403802, ...,  0.33830208,\n",
       "        -0.0459995 , -0.02146859],\n",
       "       [-1.43917804,  0.08468685, -2.37135513, ...,  0.33830208,\n",
       "        -0.0459995 , -0.02146859]])"
      ]
     },
     "execution_count": 69,
     "metadata": {},
     "output_type": "execute_result"
    }
   ],
   "source": [
    "X_scaled = scaler.transform(X_train)\n",
    "X_scaled"
   ]
  },
  {
   "cell_type": "code",
   "execution_count": 70,
   "id": "df4ed27d",
   "metadata": {},
   "outputs": [
    {
     "data": {
      "text/plain": [
       "array([-1.59577511e-16,  3.05047074e-17, -2.55699093e-16,  2.84639566e-16,\n",
       "        6.66681510e-16,  2.64661209e-16,  5.10814261e-16,  1.74608869e-15,\n",
       "        6.55150074e-16, -1.56648940e-15, -1.71481891e-15,  1.82675546e-15,\n",
       "       -1.15134492e-15,  6.67350679e-16,  1.17144981e-16,  8.70539223e-16,\n",
       "        9.26570365e-16, -8.73683676e-16,  9.81730949e-16, -4.49134613e-16,\n",
       "       -3.55758966e-15,  1.07405489e-15,  6.90767314e-16, -1.38741649e-15,\n",
       "        3.37819283e-16, -3.57910321e-16,  3.94280909e-16,  8.57590599e-16,\n",
       "        5.34381141e-17,  2.38718409e-16,  8.17647206e-16,  2.68588046e-16,\n",
       "       -2.28284761e-16,  8.29146675e-16, -2.44000365e-16,  4.99481019e-16,\n",
       "       -8.69490717e-16,  3.60100037e-16,  1.73050388e-16, -2.78148205e-16,\n",
       "        2.52352691e-15,  1.17850379e-18, -6.98002433e-16, -4.23202202e-16,\n",
       "       -2.40996779e-15, -5.47060179e-16, -7.84589429e-17, -2.12777154e-15,\n",
       "       -1.10438805e-15,  1.11341117e-15,  4.32551381e-16,  9.02056208e-16,\n",
       "        1.16653974e-15, -1.37575932e-16,  4.17134932e-16,  1.55614286e-15,\n",
       "        1.05387648e-16, -5.36958718e-16, -2.00449855e-15, -5.07571778e-16,\n",
       "       -3.64309618e-15,  5.79806814e-16, -3.43375086e-17,  1.21510773e-15,\n",
       "       -1.32183372e-15,  1.32183372e-15, -3.00672971e-15, -1.02633801e-15,\n",
       "        1.14494040e-15,  1.77983481e-15,  4.57288239e-17, -5.71250941e-16,\n",
       "        1.30055725e-15, -3.56609279e-16,  2.76758721e-16, -1.44288609e-15,\n",
       "        5.15222995e-16, -1.09180810e-15,  1.14065448e-15,  5.77248417e-17,\n",
       "       -1.61564291e-15,  1.70270941e-15,  3.83831278e-16,  9.81445113e-16,\n",
       "       -8.12337013e-16,  1.43893075e-16,  1.88352343e-15, -2.85316459e-15,\n",
       "       -1.05273101e-16, -1.09327484e-15,  1.34242077e-16, -1.36189858e-15,\n",
       "        7.23933778e-16,  4.43083326e-16,  1.05787844e-15,  2.63171190e-15,\n",
       "        3.72154127e-16, -1.00252206e-16,  3.40261534e-16,  3.90045594e-16,\n",
       "       -7.35467345e-16, -1.00816417e-16, -3.13103868e-15,  6.70693591e-16,\n",
       "       -4.17885082e-16,  2.40672104e-16,  4.01285068e-16])"
      ]
     },
     "execution_count": 70,
     "metadata": {},
     "output_type": "execute_result"
    }
   ],
   "source": [
    "X_scaled.mean(axis=0)"
   ]
  },
  {
   "cell_type": "code",
   "execution_count": 71,
   "id": "b2c1a5bb",
   "metadata": {},
   "outputs": [
    {
     "data": {
      "text/plain": [
       "array([1., 1., 1., 1., 1., 1., 1., 1., 1., 1., 1., 1., 1., 1., 1., 1., 1.,\n",
       "       1., 1., 1., 1., 1., 1., 1., 1., 1., 1., 1., 1., 1., 1., 1., 1., 1.,\n",
       "       1., 1., 1., 1., 1., 1., 1., 1., 1., 1., 1., 1., 1., 1., 1., 1., 1.,\n",
       "       1., 1., 1., 1., 1., 1., 1., 1., 1., 1., 1., 1., 1., 1., 1., 1., 1.,\n",
       "       1., 1., 1., 1., 1., 1., 1., 1., 1., 1., 1., 1., 1., 1., 1., 1., 1.,\n",
       "       1., 1., 1., 1., 1., 1., 1., 1., 1., 1., 1., 1., 1., 1., 1., 1., 1.,\n",
       "       1., 1., 1., 1., 1.])"
      ]
     },
     "execution_count": 71,
     "metadata": {},
     "output_type": "execute_result"
    }
   ],
   "source": [
    "X_scaled.std(axis=0)"
   ]
  },
  {
   "cell_type": "code",
   "execution_count": 65,
   "id": "b520b05c",
   "metadata": {},
   "outputs": [
    {
     "data": {
      "text/plain": [
       "array([0., 0., 0., ..., 0., 0., 0.])"
      ]
     },
     "execution_count": 65,
     "metadata": {},
     "output_type": "execute_result"
    }
   ],
   "source": [
    "X_train[:,105]"
   ]
  },
  {
   "cell_type": "code",
   "execution_count": 4,
   "id": "59bea669",
   "metadata": {},
   "outputs": [
    {
     "data": {
      "text/plain": [
       "107"
      ]
     },
     "execution_count": 4,
     "metadata": {},
     "output_type": "execute_result"
    }
   ],
   "source": [
    "X_train.shape[1]"
   ]
  },
  {
   "cell_type": "code",
   "execution_count": null,
   "id": "9689d376",
   "metadata": {},
   "outputs": [],
   "source": []
  },
  {
   "cell_type": "code",
   "execution_count": 5,
   "id": "34f5b2df",
   "metadata": {},
   "outputs": [
    {
     "data": {
      "text/plain": [
       "0"
      ]
     },
     "execution_count": 5,
     "metadata": {},
     "output_type": "execute_result"
    }
   ],
   "source": [
    "test_compatible_mean(X_train, X_test)"
   ]
  },
  {
   "cell_type": "code",
   "execution_count": 75,
   "id": "1d71fbcd",
   "metadata": {},
   "outputs": [],
   "source": [
    "from sklearn.ensemble import RandomForestClassifier\n",
    "from sklearn.metrics import accuracy_score\n",
    "import pickle as pkl\n",
    "import joblib"
   ]
  },
  {
   "cell_type": "code",
   "execution_count": 76,
   "id": "accbc4c0",
   "metadata": {},
   "outputs": [],
   "source": [
    "best_params = {'bootstrap': True, 'max_depth': 110, 'max_features': 3, 'min_samples_leaf': 3, 'min_samples_split': 8, 'n_estimators': 200}"
   ]
  },
  {
   "cell_type": "code",
   "execution_count": 73,
   "id": "39d3d7f7",
   "metadata": {
    "scrolled": true
   },
   "outputs": [
    {
     "data": {
      "text/plain": [
       "RandomForestClassifier(max_depth=80, max_features=2, min_samples_leaf=3,\n",
       "                       min_samples_split=8)"
      ]
     },
     "execution_count": 73,
     "metadata": {},
     "output_type": "execute_result"
    }
   ],
   "source": [
    "best_params = joblib.load(open(\"./best_model.joblib\", \"rb\"))\n",
    "best_params"
   ]
  },
  {
   "cell_type": "code",
   "execution_count": 77,
   "id": "a6ac0f5a",
   "metadata": {},
   "outputs": [],
   "source": [
    "clf = RandomForestClassifier(**best_params)"
   ]
  },
  {
   "cell_type": "code",
   "execution_count": 78,
   "id": "7e91520b",
   "metadata": {},
   "outputs": [
    {
     "data": {
      "text/plain": [
       "RandomForestClassifier(max_depth=110, max_features=3, min_samples_leaf=3,\n",
       "                       min_samples_split=8, n_estimators=200)"
      ]
     },
     "execution_count": 78,
     "metadata": {},
     "output_type": "execute_result"
    }
   ],
   "source": [
    "clf.fit(X_scaled, y_train)"
   ]
  },
  {
   "cell_type": "code",
   "execution_count": 79,
   "id": "34328552",
   "metadata": {},
   "outputs": [],
   "source": [
    "# scaler = preprocessing.StandardScaler().fit(X_test)\n",
    "X_test_scaled = scaler.transform(X_test)"
   ]
  },
  {
   "cell_type": "code",
   "execution_count": 80,
   "id": "4ab3db60",
   "metadata": {},
   "outputs": [
    {
     "data": {
      "text/plain": [
       "array([[-0.48399666,  1.00998353,  1.52417339, ...,  0.33830208,\n",
       "        -0.0459995 , -0.02146859],\n",
       "       [ 1.57331707,  0.33395438, -0.42359087, ...,  0.33830208,\n",
       "        -0.0459995 , -0.02146859],\n",
       "       [-1.14527608,  0.11946661,  1.13462054, ...,  0.33830208,\n",
       "        -0.0459995 , -0.02146859],\n",
       "       ...,\n",
       "       [ 0.03033177, -0.01084394,  0.35551483, ...,  0.33830208,\n",
       "        -0.0459995 , -0.02146859],\n",
       "       [ 0.39770922, -0.28200494, -2.37135513, ...,  0.33830208,\n",
       "        -0.0459995 , -0.02146859],\n",
       "       [-0.63094764,  0.69329474, -0.03403802, ...,  0.33830208,\n",
       "        -0.0459995 , -0.02146859]])"
      ]
     },
     "execution_count": 80,
     "metadata": {},
     "output_type": "execute_result"
    }
   ],
   "source": [
    "X_test_scaled"
   ]
  },
  {
   "cell_type": "code",
   "execution_count": 81,
   "id": "e76f986c",
   "metadata": {},
   "outputs": [],
   "source": [
    "y_pred = clf.predict(X_test_scaled)"
   ]
  },
  {
   "cell_type": "code",
   "execution_count": 82,
   "id": "c85cad47",
   "metadata": {},
   "outputs": [
    {
     "data": {
      "text/plain": [
       "array([0, 0, 0, ..., 0, 0, 0])"
      ]
     },
     "execution_count": 82,
     "metadata": {},
     "output_type": "execute_result"
    }
   ],
   "source": [
    "y_pred"
   ]
  },
  {
   "cell_type": "code",
   "execution_count": 83,
   "id": "9d4d9e51",
   "metadata": {},
   "outputs": [
    {
     "data": {
      "text/plain": [
       "(0.8141783029001074, 0.4877734877734878, 0.6100603621730383)"
      ]
     },
     "execution_count": 83,
     "metadata": {},
     "output_type": "execute_result"
    }
   ],
   "source": [
    "# accuracy_score(y_test, y_pred)\n",
    "compute_model_metrics(y_test, y_pred)"
   ]
  },
  {
   "cell_type": "code",
   "execution_count": 58,
   "id": "8c6b5f06",
   "metadata": {},
   "outputs": [
    {
     "data": {
      "text/plain": [
       "(0.8110497237569061, 0.4723294723294723, 0.5969906466043108)"
      ]
     },
     "execution_count": 58,
     "metadata": {},
     "output_type": "execute_result"
    }
   ],
   "source": [
    "# accuracy_score(y_test, y_pred)\n",
    "compute_model_metrics(y_test, y_pred)"
   ]
  },
  {
   "cell_type": "code",
   "execution_count": 24,
   "id": "23383470",
   "metadata": {},
   "outputs": [
    {
     "data": {
      "text/plain": [
       "(0.7890792291220556, 0.4745653573728268, 0.592681946119823)"
      ]
     },
     "execution_count": 24,
     "metadata": {},
     "output_type": "execute_result"
    }
   ],
   "source": [
    "# accuracy_score(y_test, y_pred)\n",
    "compute_model_metrics(y_test, y_pred)"
   ]
  },
  {
   "cell_type": "code",
   "execution_count": 15,
   "id": "bbe93d40",
   "metadata": {},
   "outputs": [
    {
     "data": {
      "text/plain": [
       "(0.8358395989974937, 0.42949130714745654, 0.5674181199489579)"
      ]
     },
     "execution_count": 15,
     "metadata": {},
     "output_type": "execute_result"
    }
   ],
   "source": [
    "# accuracy_score(y_test, y_pred)\n",
    "compute_model_metrics(y_test, y_pred)"
   ]
  },
  {
   "cell_type": "code",
   "execution_count": null,
   "id": "80f6c826",
   "metadata": {},
   "outputs": [],
   "source": [
    "best_params = pkl.load(open(\"./best_params_cv4_v2.pkl\", \"rb\"))\n",
    "best_params"
   ]
  },
  {
   "cell_type": "code",
   "execution_count": null,
   "id": "9d40e7b1",
   "metadata": {},
   "outputs": [],
   "source": [
    "best_params = pkl.load(open(\"./best_params_cv4_v3.pkl\", \"rb\"))\n",
    "best_params"
   ]
  },
  {
   "cell_type": "code",
   "execution_count": null,
   "id": "a441888d",
   "metadata": {},
   "outputs": [],
   "source": [
    "best_params = pkl.load(open(\"./best_params_cv4.pkl\", \"rb\"))\n",
    "best_params"
   ]
  },
  {
   "cell_type": "code",
   "execution_count": null,
   "id": "42b53ae0",
   "metadata": {},
   "outputs": [],
   "source": [
    "clf = RandomForestClassifier(**best_params)"
   ]
  },
  {
   "cell_type": "code",
   "execution_count": null,
   "id": "8f45c62b",
   "metadata": {},
   "outputs": [],
   "source": [
    "clf.fit(X_train, y_train)"
   ]
  },
  {
   "cell_type": "code",
   "execution_count": null,
   "id": "6994d0c6",
   "metadata": {},
   "outputs": [],
   "source": [
    "y_pred = clf.predict(X_test)"
   ]
  },
  {
   "cell_type": "code",
   "execution_count": null,
   "id": "5b9b903a",
   "metadata": {},
   "outputs": [],
   "source": []
  },
  {
   "cell_type": "code",
   "execution_count": null,
   "id": "aeb1a121",
   "metadata": {},
   "outputs": [],
   "source": [
    "compute_model_metrics(y_test, y_pred)"
   ]
  },
  {
   "cell_type": "code",
   "execution_count": null,
   "id": "ceebd512",
   "metadata": {},
   "outputs": [],
   "source": [
    "accuracy_score(y_test, y_pred)"
   ]
  },
  {
   "cell_type": "code",
   "execution_count": null,
   "id": "b6ed2927",
   "metadata": {},
   "outputs": [],
   "source": [
    "accuracy_score(y_test, y_pred)"
   ]
  },
  {
   "cell_type": "code",
   "execution_count": null,
   "id": "9f44b7ed",
   "metadata": {},
   "outputs": [],
   "source": [
    "accuracy_score(y_test, y_pred)"
   ]
  },
  {
   "cell_type": "code",
   "execution_count": null,
   "id": "2bab3664",
   "metadata": {},
   "outputs": [],
   "source": [
    "accuracy_score(y_test, y_pred)"
   ]
  },
  {
   "cell_type": "code",
   "execution_count": null,
   "id": "26e20ca6",
   "metadata": {},
   "outputs": [],
   "source": [
    "accuracy_score(y_test, y_pred)"
   ]
  },
  {
   "cell_type": "code",
   "execution_count": null,
   "id": "7ebfa9ef",
   "metadata": {},
   "outputs": [],
   "source": [
    "X_train, y_train, encoder, lb = process_data(data,\n",
    "                                             categorical_features=cat_features,\n",
    "                                             label=\"salary\", training=True)"
   ]
  },
  {
   "cell_type": "code",
   "execution_count": null,
   "id": "ee15b5f4",
   "metadata": {},
   "outputs": [],
   "source": [
    "from sklearn.model_selection import GridSearchCV\n",
    "# Create the parameter grid based on the results of random search \n",
    "param_grid = {\n",
    "    'bootstrap': [True],\n",
    "    'max_depth': [80, 90, 100, 110],\n",
    "    'max_features': [2, 3],\n",
    "    'min_samples_leaf': [3, 4, 5],\n",
    "    'min_samples_split': [8, 10, 12],\n",
    "    'n_estimators': [100, 200, 300, 1000]\n",
    "}\n",
    "# Create a based model\n",
    "clf = RandomForestClassifier()\n",
    "# Instantiate the grid search model\n",
    "grid_search = GridSearchCV(estimator = clf, param_grid = param_grid, \n",
    "                          cv = 3, n_jobs = -1, verbose = 2)"
   ]
  },
  {
   "cell_type": "code",
   "execution_count": null,
   "id": "8e7d84a0",
   "metadata": {},
   "outputs": [],
   "source": [
    "# Fit the grid search to the data\n",
    "grid_search.fit(X_train, y_train)"
   ]
  },
  {
   "cell_type": "code",
   "execution_count": null,
   "id": "8874e96b",
   "metadata": {},
   "outputs": [],
   "source": [
    "grid_search.best_params_"
   ]
  },
  {
   "cell_type": "code",
   "execution_count": null,
   "id": "7a056bff",
   "metadata": {},
   "outputs": [],
   "source": []
  },
  {
   "cell_type": "code",
   "execution_count": null,
   "id": "59c8b7cc",
   "metadata": {},
   "outputs": [],
   "source": [
    "y_test"
   ]
  },
  {
   "cell_type": "code",
   "execution_count": null,
   "id": "109abfe1",
   "metadata": {},
   "outputs": [],
   "source": [
    "X.drop(*[cat_features], axis=1)"
   ]
  },
  {
   "cell_type": "code",
   "execution_count": null,
   "id": "71199640",
   "metadata": {},
   "outputs": [],
   "source": [
    "X = train.drop([\"salary\"], axis=1)\n",
    "X_categorical = X[cat_features].values\n",
    "X_continuous = X.drop(*[cat_features], axis=1)\n",
    "X_continuous"
   ]
  },
  {
   "cell_type": "code",
   "execution_count": null,
   "id": "869fbd29",
   "metadata": {},
   "outputs": [],
   "source": [
    "X = train.drop([\"salary\"], axis=1)\n",
    "X_categorical = X[cat_features].values\n",
    "X_categorical"
   ]
  },
  {
   "cell_type": "code",
   "execution_count": null,
   "id": "b8fe536f",
   "metadata": {},
   "outputs": [],
   "source": [
    "X_train"
   ]
  },
  {
   "cell_type": "code",
   "execution_count": null,
   "id": "446f04e8",
   "metadata": {},
   "outputs": [],
   "source": [
    "data"
   ]
  },
  {
   "cell_type": "code",
   "execution_count": null,
   "id": "59844f9c",
   "metadata": {},
   "outputs": [],
   "source": [
    "X_categorical = encoder.fit_transform(X_categorical)"
   ]
  },
  {
   "cell_type": "code",
   "execution_count": null,
   "id": "67224371",
   "metadata": {},
   "outputs": [],
   "source": []
  }
 ],
 "metadata": {
  "kernelspec": {
   "display_name": "Python 3 (ipykernel)",
   "language": "python",
   "name": "python3"
  },
  "language_info": {
   "codemirror_mode": {
    "name": "ipython",
    "version": 3
   },
   "file_extension": ".py",
   "mimetype": "text/x-python",
   "name": "python",
   "nbconvert_exporter": "python",
   "pygments_lexer": "ipython3",
   "version": "3.8.10"
  }
 },
 "nbformat": 4,
 "nbformat_minor": 5
}
